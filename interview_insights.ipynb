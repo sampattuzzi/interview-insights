{
 "cells": [
  {
   "cell_type": "markdown",
   "metadata": {},
   "source": [
    "# Data"
   ]
  },
  {
   "cell_type": "code",
   "execution_count": 124,
   "metadata": {
    "collapsed": false
   },
   "outputs": [],
   "source": [
    "import pandas as pd \n",
    "import numpy as np \n",
    "import matplotlib.pyplot as plt \n",
    "\n",
    "def cat_split(n):\n",
    "    def inner(x):\n",
    "        hierarchy = x.split('>')\n",
    "        hierarchy = hierarchy + [\"\"]*(n - len(hierarchy))\n",
    "        return tuple(hierarchy)\n",
    "    return inner"
   ]
  },
  {
   "cell_type": "code",
   "execution_count": 125,
   "metadata": {
    "collapsed": false
   },
   "outputs": [
    {
     "data": {
      "text/html": [
       "<div style=\"max-height:1000px;max-width:1500px;overflow:auto;\">\n",
       "<table border=\"1\" class=\"dataframe\">\n",
       "  <thead>\n",
       "    <tr style=\"text-align: right;\">\n",
       "      <th></th>\n",
       "      <th>Problem</th>\n",
       "      <th>Pain</th>\n",
       "      <th>People</th>\n",
       "      <th>Code</th>\n",
       "    </tr>\n",
       "  </thead>\n",
       "  <tbody>\n",
       "    <tr>\n",
       "      <th>0</th>\n",
       "      <td>Uses pact</td>\n",
       "      <td>1</td>\n",
       "      <td>johnf</td>\n",
       "      <td>(accountability, uses-product, )</td>\n",
       "    </tr>\n",
       "    <tr>\n",
       "      <th>1</th>\n",
       "      <td>Uses fitbit</td>\n",
       "      <td>2</td>\n",
       "      <td>johnf</td>\n",
       "      <td>(tracking, uses-product, )</td>\n",
       "    </tr>\n",
       "    <tr>\n",
       "      <th>2</th>\n",
       "      <td>Has read \"The Power of Habit\"</td>\n",
       "      <td>1</td>\n",
       "      <td>jake</td>\n",
       "      <td>(challenges, passive, reading)</td>\n",
       "    </tr>\n",
       "    <tr>\n",
       "      <th>3</th>\n",
       "      <td>Shares with his wife</td>\n",
       "      <td>1</td>\n",
       "      <td>jake</td>\n",
       "      <td>(accountability, wife, )</td>\n",
       "    </tr>\n",
       "    <tr>\n",
       "      <th>4</th>\n",
       "      <td>Asked GF to ring in the morning</td>\n",
       "      <td>2</td>\n",
       "      <td>johnf</td>\n",
       "      <td>(accountability, wife, )</td>\n",
       "    </tr>\n",
       "  </tbody>\n",
       "</table>\n",
       "</div>"
      ],
      "text/plain": [
       "                           Problem  Pain People  \\\n",
       "0                        Uses pact     1  johnf   \n",
       "1                      Uses fitbit     2  johnf   \n",
       "2    Has read \"The Power of Habit\"     1   jake   \n",
       "3             Shares with his wife     1   jake   \n",
       "4  Asked GF to ring in the morning     2  johnf   \n",
       "\n",
       "                               Code  \n",
       "0  (accountability, uses-product, )  \n",
       "1        (tracking, uses-product, )  \n",
       "2    (challenges, passive, reading)  \n",
       "3          (accountability, wife, )  \n",
       "4          (accountability, wife, )  "
      ]
     },
     "execution_count": 125,
     "metadata": {},
     "output_type": "execute_result"
    }
   ],
   "source": [
    "problems = pd.read_csv('problems.csv', sep=', ')\n",
    "problems['Code'] = problems['Code'].apply(cat_split(3))\n",
    "problems"
   ]
  },
  {
   "cell_type": "code",
   "execution_count": 115,
   "metadata": {
    "collapsed": false
   },
   "outputs": [
    {
     "data": {
      "text/html": [
       "<div style=\"max-height:1000px;max-width:1500px;overflow:auto;\">\n",
       "<table border=\"1\" class=\"dataframe\">\n",
       "  <thead>\n",
       "    <tr style=\"text-align: right;\">\n",
       "      <th></th>\n",
       "      <th>People</th>\n",
       "      <th>First Name</th>\n",
       "      <th>Last Name</th>\n",
       "      <th>Age</th>\n",
       "    </tr>\n",
       "  </thead>\n",
       "  <tbody>\n",
       "    <tr>\n",
       "      <th>0</th>\n",
       "      <td>johnf</td>\n",
       "      <td>John</td>\n",
       "      <td>Fawcett</td>\n",
       "      <td>38</td>\n",
       "    </tr>\n",
       "    <tr>\n",
       "      <th>1</th>\n",
       "      <td>jake</td>\n",
       "      <td>Jake</td>\n",
       "      <td>Desyllas</td>\n",
       "      <td>43</td>\n",
       "    </tr>\n",
       "  </tbody>\n",
       "</table>\n",
       "</div>"
      ],
      "text/plain": [
       "  People First Name Last Name  Age\n",
       "0  johnf       John   Fawcett   38\n",
       "1   jake       Jake  Desyllas   43"
      ]
     },
     "execution_count": 115,
     "metadata": {},
     "output_type": "execute_result"
    }
   ],
   "source": [
    "people = pd.read_csv('people.csv', sep=', ')\n",
    "people"
   ]
  },
  {
   "cell_type": "code",
   "execution_count": 126,
   "metadata": {
    "collapsed": false
   },
   "outputs": [
    {
     "data": {
      "text/html": [
       "<div style=\"max-height:1000px;max-width:1500px;overflow:auto;\">\n",
       "<table border=\"1\" class=\"dataframe\">\n",
       "  <thead>\n",
       "    <tr style=\"text-align: right;\">\n",
       "      <th></th>\n",
       "      <th>Demographic</th>\n",
       "      <th>People</th>\n",
       "    </tr>\n",
       "  </thead>\n",
       "  <tbody>\n",
       "    <tr>\n",
       "      <th>0</th>\n",
       "      <td>(job, entrepreneur, )</td>\n",
       "      <td>johnf</td>\n",
       "    </tr>\n",
       "    <tr>\n",
       "      <th>1</th>\n",
       "      <td>(job, creative, blogger)</td>\n",
       "      <td>johnf</td>\n",
       "    </tr>\n",
       "    <tr>\n",
       "      <th>2</th>\n",
       "      <td>(job, creative, writer)</td>\n",
       "      <td>johnf</td>\n",
       "    </tr>\n",
       "    <tr>\n",
       "      <th>3</th>\n",
       "      <td>(habit, diet, )</td>\n",
       "      <td>johnf</td>\n",
       "    </tr>\n",
       "    <tr>\n",
       "      <th>4</th>\n",
       "      <td>(habit, exercise, )</td>\n",
       "      <td>johnf</td>\n",
       "    </tr>\n",
       "    <tr>\n",
       "      <th>5</th>\n",
       "      <td>(job, coach, )</td>\n",
       "      <td>jake</td>\n",
       "    </tr>\n",
       "    <tr>\n",
       "      <th>6</th>\n",
       "      <td>(job, entrepreneur, )</td>\n",
       "      <td>jake</td>\n",
       "    </tr>\n",
       "    <tr>\n",
       "      <th>7</th>\n",
       "      <td>(habit, writing, )</td>\n",
       "      <td>jake</td>\n",
       "    </tr>\n",
       "    <tr>\n",
       "      <th>8</th>\n",
       "      <td>(habit, wakeing-up, )</td>\n",
       "      <td>jake</td>\n",
       "    </tr>\n",
       "  </tbody>\n",
       "</table>\n",
       "</div>"
      ],
      "text/plain": [
       "                Demographic People\n",
       "0     (job, entrepreneur, )  johnf\n",
       "1  (job, creative, blogger)  johnf\n",
       "2   (job, creative, writer)  johnf\n",
       "3           (habit, diet, )  johnf\n",
       "4       (habit, exercise, )  johnf\n",
       "5            (job, coach, )   jake\n",
       "6     (job, entrepreneur, )   jake\n",
       "7        (habit, writing, )   jake\n",
       "8     (habit, wakeing-up, )   jake"
      ]
     },
     "execution_count": 126,
     "metadata": {},
     "output_type": "execute_result"
    }
   ],
   "source": [
    "demographics = pd.read_csv('demographics.csv', sep=', ')\n",
    "demographics['Demographic'] = demographics['Demographic'].apply(cat_split(3))\n",
    "demographics"
   ]
  },
  {
   "cell_type": "markdown",
   "metadata": {},
   "source": [
    "# Demographics by problem"
   ]
  },
  {
   "cell_type": "code",
   "execution_count": 148,
   "metadata": {
    "collapsed": false
   },
   "outputs": [
    {
     "data": {
      "text/plain": [
       "Problem      0                           Uses pact\n",
       "             1                           Uses pact\n",
       "             2                           Uses pact\n",
       "             3                           Uses pact\n",
       "             4                           Uses pact\n",
       "             5                         Uses fitbit\n",
       "             6                         Uses fitbit\n",
       "             7                         Uses fitbit\n",
       "             8                         Uses fitbit\n",
       "             9                         Uses fitbit\n",
       "             10    Asked GF to ring in the morning\n",
       "             11    Asked GF to ring in the morning\n",
       "             12    Asked GF to ring in the morning\n",
       "             13    Asked GF to ring in the morning\n",
       "             14    Asked GF to ring in the morning\n",
       "             15      Has read \"The Power of Habit\"\n",
       "             16      Has read \"The Power of Habit\"\n",
       "             17      Has read \"The Power of Habit\"\n",
       "             18      Has read \"The Power of Habit\"\n",
       "             19               Shares with his wife\n",
       "             20               Shares with his wife\n",
       "             21               Shares with his wife\n",
       "             22               Shares with his wife\n",
       "Pain         0                                   1\n",
       "             1                                   1\n",
       "             2                                   1\n",
       "             3                                   1\n",
       "             4                                   1\n",
       "             5                                   2\n",
       "             6                                   2\n",
       "                                ...               \n",
       "Code         16     (challenges, passive, reading)\n",
       "             17     (challenges, passive, reading)\n",
       "             18     (challenges, passive, reading)\n",
       "             19           (accountability, wife, )\n",
       "             20           (accountability, wife, )\n",
       "             21           (accountability, wife, )\n",
       "             22           (accountability, wife, )\n",
       "Demographic  0               (job, entrepreneur, )\n",
       "             1            (job, creative, blogger)\n",
       "             2             (job, creative, writer)\n",
       "             3                     (habit, diet, )\n",
       "             4                 (habit, exercise, )\n",
       "             5               (job, entrepreneur, )\n",
       "             6            (job, creative, blogger)\n",
       "             7             (job, creative, writer)\n",
       "             8                     (habit, diet, )\n",
       "             9                 (habit, exercise, )\n",
       "             10              (job, entrepreneur, )\n",
       "             11           (job, creative, blogger)\n",
       "             12            (job, creative, writer)\n",
       "             13                    (habit, diet, )\n",
       "             14                (habit, exercise, )\n",
       "             15                     (job, coach, )\n",
       "             16              (job, entrepreneur, )\n",
       "             17                 (habit, writing, )\n",
       "             18              (habit, wakeing-up, )\n",
       "             19                     (job, coach, )\n",
       "             20              (job, entrepreneur, )\n",
       "             21                 (habit, writing, )\n",
       "             22              (habit, wakeing-up, )\n",
       "dtype: object"
      ]
     },
     "execution_count": 148,
     "metadata": {},
     "output_type": "execute_result"
    }
   ],
   "source": [
    "prob_demo = pd.merge(problems, demographics, on='People')\n",
    "prob_demo.stack()\n",
    "prob_demo.unstack(1)"
   ]
  },
  {
   "cell_type": "code",
   "execution_count": 146,
   "metadata": {
    "collapsed": false
   },
   "outputs": [
    {
     "data": {
      "text/html": [
       "<div style=\"max-height:1000px;max-width:1500px;overflow:auto;\">\n",
       "<table border=\"1\" class=\"dataframe\">\n",
       "  <thead>\n",
       "    <tr>\n",
       "      <th></th>\n",
       "      <th></th>\n",
       "      <th></th>\n",
       "      <th colspan=\"8\" halign=\"left\">Pain</th>\n",
       "    </tr>\n",
       "    <tr>\n",
       "      <th></th>\n",
       "      <th></th>\n",
       "      <th>Demographic</th>\n",
       "      <th>(habit, diet, )</th>\n",
       "      <th>(habit, exercise, )</th>\n",
       "      <th>(habit, wakeing-up, )</th>\n",
       "      <th>(habit, writing, )</th>\n",
       "      <th>(job, coach, )</th>\n",
       "      <th>(job, creative, blogger)</th>\n",
       "      <th>(job, creative, writer)</th>\n",
       "      <th>(job, entrepreneur, )</th>\n",
       "    </tr>\n",
       "  </thead>\n",
       "  <tbody>\n",
       "    <tr>\n",
       "      <th rowspan=\"2\" valign=\"top\">accountability</th>\n",
       "      <th>uses-product</th>\n",
       "      <th></th>\n",
       "      <td>1</td>\n",
       "      <td>1</td>\n",
       "      <td>NaN</td>\n",
       "      <td>NaN</td>\n",
       "      <td>NaN</td>\n",
       "      <td>1</td>\n",
       "      <td>1</td>\n",
       "      <td>1.0</td>\n",
       "    </tr>\n",
       "    <tr>\n",
       "      <th>wife</th>\n",
       "      <th></th>\n",
       "      <td>2</td>\n",
       "      <td>2</td>\n",
       "      <td>1</td>\n",
       "      <td>1</td>\n",
       "      <td>1</td>\n",
       "      <td>2</td>\n",
       "      <td>2</td>\n",
       "      <td>1.5</td>\n",
       "    </tr>\n",
       "    <tr>\n",
       "      <th>challenges</th>\n",
       "      <th>passive</th>\n",
       "      <th>reading</th>\n",
       "      <td>NaN</td>\n",
       "      <td>NaN</td>\n",
       "      <td>1</td>\n",
       "      <td>1</td>\n",
       "      <td>1</td>\n",
       "      <td>NaN</td>\n",
       "      <td>NaN</td>\n",
       "      <td>1.0</td>\n",
       "    </tr>\n",
       "    <tr>\n",
       "      <th>tracking</th>\n",
       "      <th>uses-product</th>\n",
       "      <th></th>\n",
       "      <td>2</td>\n",
       "      <td>2</td>\n",
       "      <td>NaN</td>\n",
       "      <td>NaN</td>\n",
       "      <td>NaN</td>\n",
       "      <td>2</td>\n",
       "      <td>2</td>\n",
       "      <td>2.0</td>\n",
       "    </tr>\n",
       "  </tbody>\n",
       "</table>\n",
       "</div>"
      ],
      "text/plain": [
       "                                               Pain                      \\\n",
       "Demographic                         (habit, diet, ) (habit, exercise, )   \n",
       "accountability uses-product                       1                   1   \n",
       "               wife                               2                   2   \n",
       "challenges     passive      reading             NaN                 NaN   \n",
       "tracking       uses-product                       2                   2   \n",
       "\n",
       "                                                                              \\\n",
       "Demographic                         (habit, wakeing-up, ) (habit, writing, )   \n",
       "accountability uses-product                           NaN                NaN   \n",
       "               wife                                     1                  1   \n",
       "challenges     passive      reading                     1                  1   \n",
       "tracking       uses-product                           NaN                NaN   \n",
       "\n",
       "                                                                             \\\n",
       "Demographic                         (job, coach, ) (job, creative, blogger)   \n",
       "accountability uses-product                    NaN                        1   \n",
       "               wife                              1                        2   \n",
       "challenges     passive      reading              1                      NaN   \n",
       "tracking       uses-product                    NaN                        2   \n",
       "\n",
       "                                                             \\\n",
       "Demographic                         (job, creative, writer)   \n",
       "accountability uses-product                               1   \n",
       "               wife                                       2   \n",
       "challenges     passive      reading                     NaN   \n",
       "tracking       uses-product                               2   \n",
       "\n",
       "                                                           \n",
       "Demographic                         (job, entrepreneur, )  \n",
       "accountability uses-product                           1.0  \n",
       "               wife                                   1.5  \n",
       "challenges     passive      reading                   1.0  \n",
       "tracking       uses-product                           2.0  "
      ]
     },
     "execution_count": 146,
     "metadata": {},
     "output_type": "execute_result"
    }
   ],
   "source": [
    "prob_demo_pivot = prob_demo.pivot_table(index='Code', columns='Demographic')\n",
    "prob_demo_pivot.index = pd.MultiIndex.from_tuples(prob_demo_pivot.index)\n",
    "prob_demo_pivot"
   ]
  },
  {
   "cell_type": "code",
   "execution_count": null,
   "metadata": {
    "collapsed": true
   },
   "outputs": [],
   "source": []
  },
  {
   "cell_type": "code",
   "execution_count": null,
   "metadata": {
    "collapsed": true
   },
   "outputs": [],
   "source": []
  }
 ],
 "metadata": {
  "kernelspec": {
   "display_name": "Python 2",
   "language": "python",
   "name": "python2"
  },
  "language_info": {
   "codemirror_mode": {
    "name": "ipython",
    "version": 2
   },
   "file_extension": ".py",
   "mimetype": "text/x-python",
   "name": "python",
   "nbconvert_exporter": "python",
   "pygments_lexer": "ipython2",
   "version": "2.7.6"
  }
 },
 "nbformat": 4,
 "nbformat_minor": 0
}
